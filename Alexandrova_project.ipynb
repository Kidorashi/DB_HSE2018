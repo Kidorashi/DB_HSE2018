{
 "cells": [
  {
   "cell_type": "markdown",
   "metadata": {},
   "source": [
    "Есть корпус текстов. В нем есть выделенные при помощи каких-то мер устойчевые словосочетания. Надо организовать хранение и поиск текстов и словосочетаний. То есть, например, пользователь вводит сочетание, а мы ему показываем фрагменты текстов с ним (например, предложение), плюс метаинформацию по тексту."
   ]
  },
  {
   "cell_type": "code",
   "execution_count": 1,
   "metadata": {
    "collapsed": true
   },
   "outputs": [],
   "source": [
    "import psycopg2"
   ]
  },
  {
   "cell_type": "code",
   "execution_count": 2,
   "metadata": {
    "collapsed": true
   },
   "outputs": [],
   "source": [
    "from string import punctuation\n",
    "from nltk.corpus import stopwords\n",
    "from pymorphy2 import MorphAnalyzer\n",
    "from nltk import tokenize\n",
    "import re\n",
    "import string"
   ]
  },
  {
   "cell_type": "markdown",
   "metadata": {},
   "source": [
    "# Создаём БД"
   ]
  },
  {
   "cell_type": "code",
   "execution_count": 571,
   "metadata": {
    "collapsed": true
   },
   "outputs": [],
   "source": [
    "con = psycopg2.connect(dbname='glmtkhyl',\n",
    "                       user='glmtkhyl',\n",
    "                       host='dumbo.db.elephantsql.com',\n",
    "                       password='0xPKFGY35IHI2CtXhZmzN5vP9fHY3RCo')"
   ]
  },
  {
   "cell_type": "code",
   "execution_count": 572,
   "metadata": {
    "collapsed": true
   },
   "outputs": [],
   "source": [
    "cur = con.cursor()"
   ]
  },
  {
   "cell_type": "code",
   "execution_count": 318,
   "metadata": {
    "collapsed": true
   },
   "outputs": [],
   "source": [
    "con.rollback()"
   ]
  },
  {
   "cell_type": "code",
   "execution_count": 321,
   "metadata": {},
   "outputs": [],
   "source": [
    "cur.execute('DROP TABLE texts')\n",
    "cur.execute('DROP TABLE phrases')"
   ]
  },
  {
   "cell_type": "code",
   "execution_count": 322,
   "metadata": {},
   "outputs": [],
   "source": [
    "#таблица текстов; формат (t_id - номер текста; text - список предложений оригинального текста; \n",
    "#norm_text - список нормализированных предложений,author - автор текста; title - название, year - год выпуска);\n",
    "cur.execute(\"CREATE TABLE texts (t_id text, text text, norm_text text, author text, title text, year integer);\")\n",
    "\n",
    "#таблица словосочетаний; формат (p_id - номер фразы, phrase - сама фраза, meaning - значение, \n",
    "#t_ids - список списков \"номер текста - номер предложения\";)\n",
    "cur.execute(\"CREATE TABLE phrases (p_id integer, phrase text, meaning text,t_ids text);\") "
   ]
  },
  {
   "cell_type": "markdown",
   "metadata": {},
   "source": [
    "# Нужные частые функции"
   ]
  },
  {
   "cell_type": "code",
   "execution_count": 18,
   "metadata": {
    "collapsed": true
   },
   "outputs": [],
   "source": [
    "morph = MorphAnalyzer()\n",
    "punct = punctuation+'«»―…“”*№–'"
   ]
  },
  {
   "cell_type": "code",
   "execution_count": 31,
   "metadata": {
    "collapsed": true
   },
   "outputs": [],
   "source": [
    "def normalize(text):\n",
    "    if type(text) is str:\n",
    "        words = [word.strip(punct) for word in text.lower().split()]\n",
    "        words = [morph.parse(word)[0].normal_form for word in words if word]\n",
    "        return ' '.join(words)\n",
    "    else:\n",
    "        for idx, sent in enumerate(text):\n",
    "            words = [word.strip(punct) for word in sent.lower().split()]\n",
    "            words = [morph.parse(word)[0].normal_form for word in words if word]\n",
    "            text[idx] = ' '.join(words)\n",
    "        return text"
   ]
  },
  {
   "cell_type": "code",
   "execution_count": 20,
   "metadata": {
    "collapsed": true
   },
   "outputs": [],
   "source": [
    "def split_text (text):\n",
    "    return tokenize.sent_tokenize(text)"
   ]
  },
  {
   "cell_type": "code",
   "execution_count": 547,
   "metadata": {},
   "outputs": [],
   "source": [
    "def update():   \n",
    "    cur.execute(\"SELECT phrase FROM phrases\")\n",
    "    phrases = cur.fetchall()\n",
    "    for phrase in phrases:\n",
    "        nums = get_sents(list(phrase)[0])\n",
    "        cur.execute(\"UPDATE phrases SET t_ids = %s WHERE phrase = %s\", (nums, phrase))\n",
    "    return"
   ]
  },
  {
   "cell_type": "markdown",
   "metadata": {},
   "source": [
    "# Положим в БД данные для экспериментов"
   ]
  },
  {
   "cell_type": "markdown",
   "metadata": {},
   "source": [
    "Данные сейчас введу вручную, мелкими глупыми функциями, чтобы не заморачиваться. Аналогичные этим будут использоватья ниже, но я их буду переписывать, чтобы было красивее."
   ]
  },
  {
   "cell_type": "markdown",
   "metadata": {},
   "source": [
    "### Положим пару текстов"
   ]
  },
  {
   "cell_type": "code",
   "execution_count": 323,
   "metadata": {
    "collapsed": true
   },
   "outputs": [],
   "source": [
    "with open ('test_texts.txt', encoding = 'UTF-8') as f:\n",
    "    texts = f.readlines()\n",
    "\n",
    "with open ('test_texts.txt', encoding = 'UTF-8') as f:\n",
    "    norm_texts = f.readlines()"
   ]
  },
  {
   "cell_type": "code",
   "execution_count": 324,
   "metadata": {},
   "outputs": [],
   "source": [
    "for n in range(len(texts)):\n",
    "    texts[n] = texts[n].strip('\\n')\n",
    "    texts[n] = texts[n].replace('…', '.')\n",
    "    texts[n] = split_text(texts[n])\n",
    "    \n",
    "for n in range(len(norm_texts)):\n",
    "    norm_texts[n] = norm_texts[n].strip('\\n')\n",
    "    norm_texts[n] = norm_texts[n].replace('…', '.')\n",
    "    norm_texts[n] = split_text(norm_texts[n])\n",
    "    norm_texts[n] = normalize(norm_texts[n])"
   ]
  },
  {
   "cell_type": "code",
   "execution_count": 325,
   "metadata": {},
   "outputs": [
    {
     "data": {
      "text/plain": [
       "['не взять',\n",
       " 'к старость весь равно огородничество заняться',\n",
       " 'у они в бригада есть матрена баклушин',\n",
       " 'на ход спать а бить баклуша один',\n",
       " 'огород вплавь через ледяной река а с работа убежать и никто не заметить когда',\n",
       " 'или клеопатра евлампий бывший доярка',\n",
       " 'с горный алтай приехать']"
      ]
     },
     "execution_count": 325,
     "metadata": {},
     "output_type": "execute_result"
    }
   ],
   "source": [
    "norm_texts[1]"
   ]
  },
  {
   "cell_type": "code",
   "execution_count": 326,
   "metadata": {},
   "outputs": [
    {
     "data": {
      "text/plain": [
       "['Не взял.',\n",
       " 'К старости все равно огородничеством занялся.',\n",
       " 'У них в бригаде есть Матрена Баклушина.',\n",
       " 'На ходу спит, а бить баклуши ― первая!',\n",
       " 'Огородами, вплавь через ледяную реку ― а с работы убежит, и никто не заметит когда.',\n",
       " 'Или Клеопатра Евлампиевна, бывшая доярка.',\n",
       " 'С Горного Алтая приехала.']"
      ]
     },
     "execution_count": 326,
     "metadata": {},
     "output_type": "execute_result"
    }
   ],
   "source": [
    "texts[1]"
   ]
  },
  {
   "cell_type": "code",
   "execution_count": 327,
   "metadata": {
    "collapsed": true
   },
   "outputs": [],
   "source": [
    "def fill_texts(texts, norm_texts):\n",
    "    test_authors = ['Александр Городницкий', 'Виктор Слипенчук', 'Федор Беркутов']\n",
    "    test_titles = ['И жить еще надежде', 'Зинзивер', 'Туризм и образование']\n",
    "    test_years = ['2001', '2001', '2000']\n",
    "    for i in range (len(texts)):\n",
    "        cur.execute('INSERT INTO texts VALUES (%s, %s, %s, %s, %s, %s);', \n",
    "                    [str(i), texts[i], norm_texts[i], test_authors[i], test_titles[i], test_years[i]])\n",
    "    con.commit()\n",
    "    return"
   ]
  },
  {
   "cell_type": "code",
   "execution_count": 328,
   "metadata": {
    "collapsed": true
   },
   "outputs": [],
   "source": [
    "fill_texts(texts, norm_texts)"
   ]
  },
  {
   "cell_type": "markdown",
   "metadata": {},
   "source": [
    "### Добавим фразу"
   ]
  },
  {
   "cell_type": "code",
   "execution_count": 330,
   "metadata": {
    "collapsed": true
   },
   "outputs": [],
   "source": [
    "def get_where(phrase):\n",
    "    cur.execute(\"SELECT * FROM texts\")\n",
    "    texts = cur.fetchall()\n",
    "    ph = normalize(phrase)\n",
    "    num_sent = []\n",
    "    for t in range(len(texts)): #t - номер блока про текст\n",
    "        for s in range(len(texts[t][2].split(','))): #s - порядковый номер предложения; texts[t][2] - нормализованный текст;\n",
    "            if ph in texts[t][2].split(',')[s].strip('\"}{'):\n",
    "                a = []\n",
    "                a.append(t)\n",
    "                a.append(s)\n",
    "                num_sent.append(a)\n",
    "    return num_sent"
   ]
  },
  {
   "cell_type": "code",
   "execution_count": 331,
   "metadata": {
    "collapsed": true
   },
   "outputs": [],
   "source": [
    "def fill_phrases():\n",
    "    ph = 'бить баклуши'\n",
    "    mea = 'бездельничать'\n",
    "    num = get_where(ph)\n",
    "\n",
    "    cur.execute('INSERT INTO phrases VALUES (%s, %s, %s, %s);',\n",
    "                       [str(0), ph, mea, num])\n",
    "    con.commit()\n",
    "    return"
   ]
  },
  {
   "cell_type": "code",
   "execution_count": 332,
   "metadata": {},
   "outputs": [],
   "source": [
    "fill_phrases()"
   ]
  },
  {
   "cell_type": "markdown",
   "metadata": {},
   "source": [
    "### Поиск по выражениям"
   ]
  },
  {
   "cell_type": "code",
   "execution_count": 415,
   "metadata": {
    "collapsed": true
   },
   "outputs": [],
   "source": [
    "def print_text(all_info, mea):\n",
    "    i = 0\n",
    "    print('Значение: ' + mea + '\\n')\n",
    "    for text, s in all_info:\n",
    "        print(str(i) + '. ' + s)\n",
    "        print('Название текста: ' + text[0][4])\n",
    "        print('Автор текста: ' + text[0][3])\n",
    "        print('Год создания текста: ' + str(text[0][5]) + '\\n')\n",
    "        print('~~~')\n",
    "        i+=1\n",
    "    return\n",
    "    "
   ]
  },
  {
   "cell_type": "code",
   "execution_count": 411,
   "metadata": {
    "collapsed": true
   },
   "outputs": [],
   "source": [
    "def get_texts(t_ids):\n",
    "    all_info = []\n",
    "    for t_id, s in t_ids: #t_id - id текста, s - номер предложения;\n",
    "        a = []\n",
    "        cur.execute(\"SELECT * FROM texts WHERE t_id LIKE '%s'\" % (t_id))\n",
    "        text = cur.fetchall() #text - блок текста;\n",
    "        sent = text[0][1].strip('{\"}').split('\",\"')[int(s)]\n",
    "        a.append(text)\n",
    "        a.append(sent)\n",
    "        all_info.append(a)\n",
    "    return all_info"
   ]
  },
  {
   "cell_type": "code",
   "execution_count": 413,
   "metadata": {},
   "outputs": [],
   "source": [
    "def search_in_base(p):\n",
    "    cur.execute(\"SELECT * FROM phrases WHERE phrase LIKE '%s'\" % (p))\n",
    "    phrase = cur.fetchall()\n",
    "    if len(phrase) is not 0:\n",
    "        p_id = phrase[0][0]\n",
    "        mea = phrase[0][2]\n",
    "        t_ids = [n.split(',') for n in phrase[0][3].strip('{}').split('},{')] #список в списке; [[текст, страница]]\n",
    "        all_info = get_texts(t_ids) #список в списке; [[блок про текст, предложение]]\n",
    "        print_text(all_info, mea)\n",
    "    else:\n",
    "        print('Такого выражения в базе нет.')\n",
    "    con.commit()\n",
    "    return "
   ]
  },
  {
   "cell_type": "code",
   "execution_count": 417,
   "metadata": {},
   "outputs": [
    {
     "name": "stdout",
     "output_type": "stream",
     "text": [
      "Такого выражения в базе нет.\n"
     ]
    }
   ],
   "source": [
    "search_in_base('кот наплакал')"
   ]
  },
  {
   "cell_type": "code",
   "execution_count": 416,
   "metadata": {},
   "outputs": [
    {
     "name": "stdout",
     "output_type": "stream",
     "text": [
      "Значение: бездельничать\n",
      "\n",
      "0. Герои первых песен Кима ― рыбаки и китобои, беззаботные школяры, распевающие лихие и совершенно антипедагогичные песенки, вроде «Бей баклуши, бей баклуши, а уроки ― не учи»; свирепые, но благородные корсары устрашающего вида ― «Через лоб повязка, через череп ― шрам.\n",
      "Название текста: И жить еще надежде\n",
      "Автор текста: Александр Городницкий\n",
      "Год создания текста: 2001\n",
      "\n",
      "~~~\n",
      "1. На ходу спит, а бить баклуши ― первая!\n",
      "Название текста: Зинзивер\n",
      "Автор текста: Виктор Слипенчук\n",
      "Год создания текста: 2001\n",
      "\n",
      "~~~\n"
     ]
    }
   ],
   "source": [
    "search_in_base('бить баклуши')"
   ]
  },
  {
   "cell_type": "markdown",
   "metadata": {},
   "source": [
    "# Добавление новой фразы"
   ]
  },
  {
   "cell_type": "code",
   "execution_count": 445,
   "metadata": {
    "collapsed": true
   },
   "outputs": [],
   "source": [
    "def get_sents(phrase):\n",
    "    cur.execute(\"SELECT * FROM texts\")\n",
    "    texts = cur.fetchall()\n",
    "    ph = normalize(phrase)\n",
    "    num_sent = []\n",
    "    for t in range(len(texts)): #t - номер блока про текст\n",
    "        for s in range(len(texts[t][2].split(','))): #s - порядковый номер предложения; texts[t][2] - нормализованный текст;\n",
    "            if ph in texts[t][2].split(',')[s].strip('\"}{'):\n",
    "                a = []\n",
    "                a.append(t)\n",
    "                a.append(s)\n",
    "                num_sent.append(a)\n",
    "    return num_sent"
   ]
  },
  {
   "cell_type": "code",
   "execution_count": 464,
   "metadata": {
    "collapsed": true
   },
   "outputs": [],
   "source": [
    "def add_phrase(phrase, mea):\n",
    "    cur.execute(\"SELECT * FROM phrases WHERE phrase LIKE '%s'\" % (phrase))\n",
    "    p = cur.fetchall()\n",
    "    if len(p) is 0:\n",
    "        nums = get_sents(phrase)\n",
    "        cur.execute(\"SELECT p_id FROM phrases\")\n",
    "        p_id= list(cur.fetchall()[len(cur.fetchall())-1])[0]+1\n",
    "        cur.execute('INSERT INTO phrases VALUES (%s, %s, %s, %s);',\n",
    "                           [str(p_id), phrase, mea, nums])\n",
    "    else:\n",
    "        print('Такое выражение уже есть в базе.')\n",
    "    con.commit()\n",
    "    return"
   ]
  },
  {
   "cell_type": "code",
   "execution_count": 453,
   "metadata": {
    "collapsed": true
   },
   "outputs": [],
   "source": [
    "con.rollback()"
   ]
  },
  {
   "cell_type": "code",
   "execution_count": 456,
   "metadata": {
    "collapsed": true
   },
   "outputs": [],
   "source": [
    "my_phrase = 'бить баклуши'\n",
    "mea = 'лениться'"
   ]
  },
  {
   "cell_type": "code",
   "execution_count": 457,
   "metadata": {},
   "outputs": [
    {
     "name": "stdout",
     "output_type": "stream",
     "text": [
      "Такое выражение уже есть в базе.\n"
     ]
    }
   ],
   "source": [
    "add_phrase(my_phrase, mea)"
   ]
  },
  {
   "cell_type": "code",
   "execution_count": 533,
   "metadata": {
    "collapsed": true
   },
   "outputs": [],
   "source": [
    "my_phrase = 'кот наплакал'\n",
    "mea = 'очень мало'"
   ]
  },
  {
   "cell_type": "code",
   "execution_count": 534,
   "metadata": {},
   "outputs": [],
   "source": [
    "add_phrase(my_phrase, mea)"
   ]
  },
  {
   "cell_type": "code",
   "execution_count": 535,
   "metadata": {
    "scrolled": true
   },
   "outputs": [
    {
     "data": {
      "text/plain": [
       "[(0, 'бить баклуши', 'бездельничать', '{{0,3},{1,3}}'),\n",
       " (1, 'кот наплакал', 'очень мало', '{{3,3}}')]"
      ]
     },
     "execution_count": 535,
     "metadata": {},
     "output_type": "execute_result"
    }
   ],
   "source": [
    "cur.execute(\"SELECT * FROM phrases\")\n",
    "cur.fetchall()"
   ]
  },
  {
   "cell_type": "markdown",
   "metadata": {},
   "source": [
    "# Добавление текста"
   ]
  },
  {
   "cell_type": "markdown",
   "metadata": {},
   "source": [
    "С каждым новым текстом нужно проходить по всем выражениям. Так как база небольшая, легче просто заново заколнять графу t_ids с индексами предложений. В идеале, конечно, просто добавлять новую пару."
   ]
  },
  {
   "cell_type": "code",
   "execution_count": 490,
   "metadata": {
    "collapsed": true
   },
   "outputs": [],
   "source": [
    "with open ('test_texts.txt', encoding = 'UTF-8') as f:\n",
    "    text = f.read()\n",
    "\n",
    "auth = 'Дина Рубина'\n",
    "title = 'Медная шкатулка'\n",
    "year = '2015'"
   ]
  },
  {
   "cell_type": "code",
   "execution_count": 515,
   "metadata": {},
   "outputs": [
    {
     "name": "stdout",
     "output_type": "stream",
     "text": [
      "[[0, 3], [1, 3]]\n",
      "[[3, 3]]\n"
     ]
    }
   ],
   "source": [
    "cur.execute(\"SELECT phrase FROM phrases\")\n",
    "phrases = cur.fetchall()\n",
    "for phrase in phrases:\n",
    "    print(get_sents(list(phrase)[0]))"
   ]
  },
  {
   "cell_type": "code",
   "execution_count": 546,
   "metadata": {
    "collapsed": true
   },
   "outputs": [],
   "source": [
    "def add_text(text, auth, title, year):\n",
    "    text = text.replace('…', '.').strip('\\ufeff\\n')\n",
    "    norm_text = normalize(split_text(text))\n",
    "    cur.execute(\"SELECT t_id FROM texts\")\n",
    "    i = int(list(cur.fetchall()[len(cur.fetchall())-1])[0])+1\n",
    "    cur.execute('INSERT INTO texts VALUES (%s, %s, %s, %s, %s, %s);', \n",
    "                [str(i), text, norm_text, auth, title, year])\n",
    "    update()\n",
    "    con.commit()\n",
    "    return"
   ]
  },
  {
   "cell_type": "code",
   "execution_count": 548,
   "metadata": {},
   "outputs": [],
   "source": [
    "add_text(text, auth, title, year)"
   ]
  },
  {
   "cell_type": "code",
   "execution_count": 539,
   "metadata": {
    "collapsed": true
   },
   "outputs": [],
   "source": [
    "cur.execute(\"DELETE FROM texts WHERE title = '%s'\" % 'Медная шкатулка')"
   ]
  },
  {
   "cell_type": "code",
   "execution_count": 549,
   "metadata": {},
   "outputs": [
    {
     "data": {
      "text/plain": [
       "('3',\n",
       " 'И если очень повезет, тебе удастся переключить его внимание: на жизнь, ее неудачи, неприятности, обиды и даже горе. Для того чтобы снять напряжение, ты подробно ― в мельчайших оттенках ― интересуешься, что он чувствует, как возникло у него роковое решение и как он утвердился в своем намерении уйти из жизни. И если голос на том конце провода излучает лишь безысходность, ты длишь и длишь разговор, пока состояние собеседника ― хотя бы просто от усталости ― не изменится. Это трудно: опыта у меня тогда было ― кот наплакал, веры в свои силы ― еще меньше, зато мгновенно окатил зубодробительный мандраж, едва я поняла, что звонивший на наш телефон человек находится на пределе сил и на пределе жизни. И сразу выяснилось, что предел жизни ― вот он, на подоконнике. А теперь представьте, что сидите вы ночью в комнате с зарешеченным окном и говорите о смерти с незнакомым человеком, который на протяжении всего разговора перетаптывается на подоконнике шестого этажа, а вы слышите, как шумят машины у него на улице, и с ледяной пустотой под ложечкой ждете последнего вопля в трубке или ― последней тишины. Говорил он ровно, без эмоций: вот решил хоть кому-то сказать, что совершает это сам, по своей воле, а не случайно; чтоб не трепали языками ― мол, вывалился по пьянке из окна.',\n",
       " '{\"и если очень повезти ты удаться переключить он внимание на жизнь она неудача неприятность обида и даже горе\",\"для тот чтобы снять напряжение ты подробно в мелкий оттенок интересоваться что он чувствовать как возникнуть у он роковой решение и как он утвердиться в свой намерение уйти из жизнь\",\"и если голос на тот конец провод излучать лишь безысходность ты длить и длить разговор пока состояние собеседник хотя бы просто от усталость не измениться\",\"это трудно опыт у я тогда быть кот наплакать вера в свой сила ещё маленький зато мгновенно окатить зубодробительный мандраж едва я понять что звонить на наш телефон человек находиться на предел сила и на предел жизнь\",\"и сразу выясниться что предел жизнь вот он на подоконник\",\"а теперь представить что сидеть вы ночью в комната с зарешетить окно и говорить о смерть с незнакомый человек который на протяжение всего разговор перетаптываться на подоконник шесть этаж а вы слышать как шуметь машина у он на улица и с ледяной пустота под ложечка ждать последний вопль в трубка или последний тишина\",\"говорить он ровно без эмоция вот решить хоть кто-то сказать что совершать это сам по свой воля а не случайно чтоб не трепать язык мол вывалиться по пьянка из окно\"}',\n",
       " 'Дина Рубина',\n",
       " 'Медная шкатулка',\n",
       " 2015)"
      ]
     },
     "execution_count": 549,
     "metadata": {},
     "output_type": "execute_result"
    }
   ],
   "source": [
    "cur.execute(\"SELECT * FROM texts\")\n",
    "cur.fetchall()[3]"
   ]
  },
  {
   "cell_type": "code",
   "execution_count": 524,
   "metadata": {},
   "outputs": [
    {
     "data": {
      "text/plain": [
       "[(0, 'бить баклуши', 'бездельничать', '{{0,3},{1,3}}'),\n",
       " (1, 'кот наплакал', 'очень мало', '{{3,3}}')]"
      ]
     },
     "execution_count": 524,
     "metadata": {},
     "output_type": "execute_result"
    }
   ],
   "source": [
    "cur.execute(\"SELECT * FROM phrases\")\n",
    "cur.fetchall()"
   ]
  },
  {
   "cell_type": "markdown",
   "metadata": {},
   "source": [
    "# Удаление фразы"
   ]
  },
  {
   "cell_type": "code",
   "execution_count": 530,
   "metadata": {
    "collapsed": true
   },
   "outputs": [],
   "source": [
    "def delete_phrase(phrase):\n",
    "    cur.execute(\"DELETE FROM phrases WHERE phrase = '%s'\" % phrase)\n",
    "    con.commit()\n",
    "    return"
   ]
  },
  {
   "cell_type": "code",
   "execution_count": 531,
   "metadata": {
    "collapsed": true
   },
   "outputs": [],
   "source": [
    "delete_phrase('кот наплакал')"
   ]
  },
  {
   "cell_type": "code",
   "execution_count": 532,
   "metadata": {},
   "outputs": [
    {
     "data": {
      "text/plain": [
       "[(0, 'бить баклуши', 'бездельничать', '{{0,3},{1,3}}')]"
      ]
     },
     "execution_count": 532,
     "metadata": {},
     "output_type": "execute_result"
    }
   ],
   "source": [
    "cur.execute(\"SELECT * FROM phrases\")\n",
    "cur.fetchall()"
   ]
  },
  {
   "cell_type": "markdown",
   "metadata": {},
   "source": [
    "# Удаление текста"
   ]
  },
  {
   "cell_type": "markdown",
   "metadata": {},
   "source": [
    "Ситуация такая же, как и с добавлением. Нужно переписывать данные по встречаемости.\n",
    "Для удобства сделала удаление по названию текста."
   ]
  },
  {
   "cell_type": "code",
   "execution_count": 550,
   "metadata": {
    "collapsed": true
   },
   "outputs": [],
   "source": [
    "def delete_text(title):\n",
    "    cur.execute(\"DELETE FROM texts WHERE title = '%s'\" % title)\n",
    "    update()\n",
    "    con.commit()\n",
    "    return    "
   ]
  },
  {
   "cell_type": "code",
   "execution_count": 551,
   "metadata": {
    "collapsed": true
   },
   "outputs": [],
   "source": [
    "delete_text('Медная шкатулка')"
   ]
  },
  {
   "cell_type": "code",
   "execution_count": 552,
   "metadata": {},
   "outputs": [
    {
     "ename": "IndexError",
     "evalue": "list index out of range",
     "output_type": "error",
     "traceback": [
      "\u001b[1;31m---------------------------------------------------------------------------\u001b[0m",
      "\u001b[1;31mIndexError\u001b[0m                                Traceback (most recent call last)",
      "\u001b[1;32m<ipython-input-552-b0503941ea30>\u001b[0m in \u001b[0;36m<module>\u001b[1;34m()\u001b[0m\n\u001b[0;32m      1\u001b[0m \u001b[0mcur\u001b[0m\u001b[1;33m.\u001b[0m\u001b[0mexecute\u001b[0m\u001b[1;33m(\u001b[0m\u001b[1;34m\"SELECT * FROM texts\"\u001b[0m\u001b[1;33m)\u001b[0m\u001b[1;33m\u001b[0m\u001b[0m\n\u001b[1;32m----> 2\u001b[1;33m \u001b[0mcur\u001b[0m\u001b[1;33m.\u001b[0m\u001b[0mfetchall\u001b[0m\u001b[1;33m(\u001b[0m\u001b[1;33m)\u001b[0m\u001b[1;33m[\u001b[0m\u001b[1;36m3\u001b[0m\u001b[1;33m]\u001b[0m\u001b[1;33m\u001b[0m\u001b[0m\n\u001b[0m",
      "\u001b[1;31mIndexError\u001b[0m: list index out of range"
     ]
    }
   ],
   "source": [
    "cur.execute(\"SELECT * FROM texts\")\n",
    "cur.fetchall()[3] #текст удалился"
   ]
  },
  {
   "cell_type": "markdown",
   "metadata": {},
   "source": [
    "# Дополнительные функции"
   ]
  },
  {
   "cell_type": "markdown",
   "metadata": {},
   "source": [
    "Просмотр всех выражений"
   ]
  },
  {
   "cell_type": "code",
   "execution_count": 561,
   "metadata": {},
   "outputs": [
    {
     "data": {
      "text/plain": [
       "('бить баклуши',)"
      ]
     },
     "execution_count": 561,
     "metadata": {},
     "output_type": "execute_result"
    }
   ],
   "source": [
    "cur.execute(\"SELECT phrase FROM phrases\")\n",
    "cur.fetchall()[0]"
   ]
  },
  {
   "cell_type": "code",
   "execution_count": 562,
   "metadata": {
    "collapsed": true
   },
   "outputs": [],
   "source": [
    "def get_all_phrases():\n",
    "    cur.execute(\"SELECT phrase FROM phrases\")\n",
    "    phrases = cur.fetchall()\n",
    "    for p in phrases:\n",
    "        print(list(p)[0])\n",
    "    return"
   ]
  },
  {
   "cell_type": "code",
   "execution_count": 563,
   "metadata": {},
   "outputs": [
    {
     "name": "stdout",
     "output_type": "stream",
     "text": [
      "бить баклуши\n",
      "кот наплакал\n"
     ]
    }
   ],
   "source": [
    " get_all_phrases()"
   ]
  },
  {
   "cell_type": "markdown",
   "metadata": {},
   "source": [
    "Просмотр всех названий текстов"
   ]
  },
  {
   "cell_type": "code",
   "execution_count": 566,
   "metadata": {
    "collapsed": true
   },
   "outputs": [],
   "source": [
    "def get_all_titles():\n",
    "    cur.execute(\"SELECT title FROM texts\")\n",
    "    titles = cur.fetchall()\n",
    "    for t in titles:\n",
    "        print(list(t)[0])\n",
    "    return"
   ]
  },
  {
   "cell_type": "code",
   "execution_count": 567,
   "metadata": {},
   "outputs": [
    {
     "name": "stdout",
     "output_type": "stream",
     "text": [
      "И жить еще надежде\n",
      "Зинзивер\n",
      "Туризм и образование\n"
     ]
    }
   ],
   "source": [
    "get_all_titles()"
   ]
  },
  {
   "cell_type": "markdown",
   "metadata": {},
   "source": [
    "Просмотр всех авторов текстов"
   ]
  },
  {
   "cell_type": "code",
   "execution_count": 568,
   "metadata": {
    "collapsed": true
   },
   "outputs": [],
   "source": [
    "def get_all_authors():\n",
    "    cur.execute(\"SELECT author FROM texts\")\n",
    "    authors = cur.fetchall()\n",
    "    for a in authors:\n",
    "        print(list(a)[0])\n",
    "    return"
   ]
  },
  {
   "cell_type": "code",
   "execution_count": 573,
   "metadata": {},
   "outputs": [
    {
     "name": "stdout",
     "output_type": "stream",
     "text": [
      "Александр Городницкий\n",
      "Виктор Слипенчук\n",
      "Федор Беркутов\n"
     ]
    }
   ],
   "source": [
    "get_all_authors()"
   ]
  }
 ],
 "metadata": {
  "kernelspec": {
   "display_name": "Python 3",
   "language": "python",
   "name": "python3"
  },
  "language_info": {
   "codemirror_mode": {
    "name": "ipython",
    "version": 3
   },
   "file_extension": ".py",
   "mimetype": "text/x-python",
   "name": "python",
   "nbconvert_exporter": "python",
   "pygments_lexer": "ipython3",
   "version": "3.6.2"
  }
 },
 "nbformat": 4,
 "nbformat_minor": 2
}
