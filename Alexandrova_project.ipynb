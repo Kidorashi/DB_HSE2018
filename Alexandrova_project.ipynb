{
 "cells": [
  {
   "cell_type": "markdown",
   "metadata": {},
   "source": [
    "Есть корпус текстов. В нем есть выделенные при помощи каких-то мер устойчевые словосочетания. Надо организовать хранение и поиск текстов и словосочетаний. То есть, например, пользователь вводит сочетание, а мы ему показываем фрагменты текстов с ним (например, предложение), плюс метаинформацию по тексту."
   ]
  },
  {
   "cell_type": "code",
   "execution_count": 10,
   "metadata": {
    "collapsed": true
   },
   "outputs": [],
   "source": [
    "import psycopg2"
   ]
  },
  {
   "cell_type": "code",
   "execution_count": 11,
   "metadata": {
    "collapsed": true
   },
   "outputs": [],
   "source": [
    "from string import punctuation\n",
    "from nltk.corpus import stopwords\n",
    "from pymorphy2 import MorphAnalyzer\n",
    "from nltk import tokenize\n",
    "import re\n",
    "import string"
   ]
  },
  {
   "cell_type": "markdown",
   "metadata": {},
   "source": [
    "# Создаём БД"
   ]
  },
  {
   "cell_type": "code",
   "execution_count": 12,
   "metadata": {
    "collapsed": true
   },
   "outputs": [],
   "source": [
    "con = psycopg2.connect(dbname='glmtkhyl',\n",
    "                       user='glmtkhyl',\n",
    "                       host='dumbo.db.elephantsql.com',\n",
    "                       password='0xPKFGY35IHI2CtXhZmzN5vP9fHY3RCo')"
   ]
  },
  {
   "cell_type": "code",
   "execution_count": 13,
   "metadata": {
    "collapsed": true
   },
   "outputs": [],
   "source": [
    "cur = con.cursor()"
   ]
  },
  {
   "cell_type": "code",
   "execution_count": 318,
   "metadata": {
    "collapsed": true
   },
   "outputs": [],
   "source": [
    "con.rollback()"
   ]
  },
  {
   "cell_type": "code",
   "execution_count": 254,
   "metadata": {
    "collapsed": true
   },
   "outputs": [],
   "source": [
    "#cur.execute('DROP TABLE texts')\n",
    "cur.execute('DROP TABLE phrases')"
   ]
  },
  {
   "cell_type": "code",
   "execution_count": 255,
   "metadata": {
    "collapsed": true
   },
   "outputs": [],
   "source": [
    "#таблица текстов; формат (t_id - номер текста; text - список предложений оригинального текста; \n",
    "#norm_text - список нормализированных предложений,author - автор текста; title - название, year - год выпуска);\n",
    "#cur.execute(\"CREATE TABLE texts (t_id text, text text, norm_text text, author text, title text, year integer);\")\n",
    "\n",
    "#таблица словосочетаний; формат (p_id - номер фразы, phrase - сама фраза, meaning - значение, \n",
    "#t_ids - список списков \"номер текста - номер предложения\";)\n",
    "cur.execute(\"CREATE TABLE phrases (p_id integer, phrase text, meaning text,t_ids text);\") "
   ]
  },
  {
   "cell_type": "markdown",
   "metadata": {},
   "source": [
    "# Нужные частые функции"
   ]
  },
  {
   "cell_type": "code",
   "execution_count": 16,
   "metadata": {
    "collapsed": true
   },
   "outputs": [],
   "source": [
    "morph = MorphAnalyzer()\n",
    "punct = punctuation+'«»―…“”*№–'"
   ]
  },
  {
   "cell_type": "code",
   "execution_count": 17,
   "metadata": {
    "collapsed": true
   },
   "outputs": [],
   "source": [
    "def normalize(text):\n",
    "    if type(text) is str:\n",
    "        words = [word.strip(punct) for word in text.lower().split()]\n",
    "        words = [morph.parse(word)[0].normal_form for word in words if word]\n",
    "        return ' '.join(words)\n",
    "    else:\n",
    "        for idx, sent in enumerate(text):\n",
    "            words = [word.strip(punct) for word in sent.lower().split()]\n",
    "            words = [morph.parse(word)[0].normal_form for word in words if word]\n",
    "            text[idx] = ' '.join(words)\n",
    "        return text"
   ]
  },
  {
   "cell_type": "code",
   "execution_count": 18,
   "metadata": {
    "collapsed": true
   },
   "outputs": [],
   "source": [
    "def update():   \n",
    "    cur.execute(\"SELECT phrase FROM phrases\")\n",
    "    phrases = cur.fetchall()\n",
    "    for phrase in phrases:\n",
    "        nums = get_sents(list(phrase)[0])\n",
    "        cur.execute(\"UPDATE phrases SET t_ids = %s WHERE phrase = %s\", (nums, phrase))\n",
    "    return"
   ]
  },
  {
   "cell_type": "markdown",
   "metadata": {},
   "source": [
    "# Положим в БД данные для экспериментов"
   ]
  },
  {
   "cell_type": "markdown",
   "metadata": {},
   "source": [
    "Данные сейчас введу вручную, мелкими глупыми функциями, чтобы не заморачиваться. Аналогичные этим будут использоватья ниже, но я их буду переписывать, чтобы было красивее."
   ]
  },
  {
   "cell_type": "markdown",
   "metadata": {},
   "source": [
    "### Положим пару текстов"
   ]
  },
  {
   "cell_type": "code",
   "execution_count": 242,
   "metadata": {},
   "outputs": [],
   "source": [
    "with open ('test_texts.txt', encoding = 'UTF-8') as f:\n",
    "    texts = f.read()\n",
    "\n",
    "with open ('test_texts.txt', encoding = 'UTF-8') as f:\n",
    "    norm_texts = f.read()"
   ]
  },
  {
   "cell_type": "code",
   "execution_count": 243,
   "metadata": {
    "collapsed": true
   },
   "outputs": [],
   "source": [
    "texts = texts.split('\\n\\n')\n",
    "norm_texts = norm_texts.split('\\n\\n')"
   ]
  },
  {
   "cell_type": "code",
   "execution_count": 244,
   "metadata": {},
   "outputs": [],
   "source": [
    "norm_text = []\n",
    "for n in range(len(texts)):\n",
    "    texts[n] = texts[n].replace('\\ufeff', '').replace('…', '.')\n",
    "    texts[n] = texts[n].split('\\n')\n",
    "    norm_texts[n] = norm_texts[n].replace('\\ufeff', '').replace('…', '.')\n",
    "    norm_texts[n] = norm_texts[n].split('\\n')\n",
    "    texts[n][0] = tokenize.sent_tokenize(texts[n][0])\n",
    "    norm_text.append(normalize(tokenize.sent_tokenize(norm_texts[n][0])))"
   ]
  },
  {
   "cell_type": "code",
   "execution_count": 76,
   "metadata": {},
   "outputs": [
    {
     "data": {
      "text/plain": [
       "['вообще многий поздно',\n",
       " 'я не ответить потому что это замечание не предполагать ответ',\n",
       " 'собственно почти весь быть уже ясно',\n",
       " 'не вешать нос прапорщик произнести я совершенно механически',\n",
       " 'так военный хирург в приёмный покой раз за разом привычно говорить свой искалечить пациент что-нибудь вроде мы ещё с вы водка выпить лейтенант',\n",
       " 'я не вешать живо возразить дыбовский',\n",
       " 'просто надо же реалистично смотреть на вещий']"
      ]
     },
     "execution_count": 76,
     "metadata": {},
     "output_type": "execute_result"
    }
   ],
   "source": [
    "norm_text[1]"
   ]
  },
  {
   "cell_type": "code",
   "execution_count": 71,
   "metadata": {},
   "outputs": [
    {
     "data": {
      "text/plain": [
       "[['― Вообще ― многое поздно.',\n",
       "  'Я не ответил, потому что это замечание не предполагало ответа.',\n",
       "  'Собственно, почти всё было уже ясно.',\n",
       "  '― Не вешайте нос, прапорщик, ― произнёс я совершенно механически.',\n",
       "  'Так военный хирург в приёмном покое раз за разом привычно говорит своим искалеченным пациентам что-нибудь вроде: «Мы ещё с вами водки выпьем, лейтенант» .',\n",
       "  '― Я не вешаю, ― живо возразил Дыбовский.',\n",
       "  '― Просто надо же реалистично смотреть на вещи.'],\n",
       " 'Сергей Ястребов',\n",
       " 'Лунная соната',\n",
       " '2007']"
      ]
     },
     "execution_count": 71,
     "metadata": {},
     "output_type": "execute_result"
    }
   ],
   "source": [
    "texts[1]"
   ]
  },
  {
   "cell_type": "code",
   "execution_count": 245,
   "metadata": {
    "collapsed": true
   },
   "outputs": [],
   "source": [
    "def fill_texts(texts, norm_text):\n",
    "    for i in range (len(texts)):\n",
    "        cur.execute('INSERT INTO texts VALUES (%s, %s, %s, %s, %s, %s);', \n",
    "                    [str(i), texts[i][0], norm_text[i], texts[i][1], texts[i][2], str(texts[i][3])])\n",
    "    con.commit()\n",
    "    return"
   ]
  },
  {
   "cell_type": "code",
   "execution_count": 246,
   "metadata": {},
   "outputs": [],
   "source": [
    "fill_texts(texts, norm_text)"
   ]
  },
  {
   "cell_type": "markdown",
   "metadata": {},
   "source": [
    "### Добавим несколько фраз"
   ]
  },
  {
   "cell_type": "code",
   "execution_count": 256,
   "metadata": {},
   "outputs": [],
   "source": [
    "with open ('text_phrases.txt', encoding = 'UTF-8') as f:\n",
    "    phrases = f.read()"
   ]
  },
  {
   "cell_type": "code",
   "execution_count": 257,
   "metadata": {},
   "outputs": [],
   "source": [
    "phrases= phrases.split('\\n\\n')"
   ]
  },
  {
   "cell_type": "code",
   "execution_count": 258,
   "metadata": {
    "collapsed": true
   },
   "outputs": [],
   "source": [
    "ph = []\n",
    "mea = []\n",
    "for p in phrases:\n",
    "    ph.append(p.split('\\n')[0])\n",
    "    mea.append(p.split('\\n')[1])"
   ]
  },
  {
   "cell_type": "code",
   "execution_count": 259,
   "metadata": {
    "collapsed": true
   },
   "outputs": [],
   "source": [
    "def get_where(phrase):\n",
    "    cur.execute(\"SELECT * FROM texts\")\n",
    "    texts = cur.fetchall()\n",
    "    ph = normalize(phrase)\n",
    "    num_sent = []\n",
    "    for t in range(len(texts)): #t - номер блока про текст\n",
    "        for s in range(len(texts[t][2].split(','))): #s - порядковый номер предложения; texts[t][2] - нормализованный текст;\n",
    "            if ph in texts[t][2].split(',')[s].strip('\"}{'):\n",
    "                a = []\n",
    "                a.append(t)\n",
    "                a.append(s)\n",
    "                num_sent.append(a)\n",
    "    return num_sent"
   ]
  },
  {
   "cell_type": "code",
   "execution_count": 260,
   "metadata": {
    "collapsed": true
   },
   "outputs": [],
   "source": [
    "def fill_phrases(phrases, meas):\n",
    "    for i in range(len(phrases)):\n",
    "        num = get_where(phrases[i])\n",
    "\n",
    "        cur.execute('INSERT INTO phrases VALUES (%s, %s, %s, %s);',\n",
    "                           [str(i), phrases[i], meas[0], num])\n",
    "    con.commit()\n",
    "    return"
   ]
  },
  {
   "cell_type": "code",
   "execution_count": 261,
   "metadata": {
    "collapsed": true
   },
   "outputs": [],
   "source": [
    "fill_phrases(ph, mea)"
   ]
  },
  {
   "cell_type": "code",
   "execution_count": 262,
   "metadata": {},
   "outputs": [
    {
     "data": {
      "text/plain": [
       "[(0, 'бить баклуши', 'лениться', '{{10,0},{11,3}}'),\n",
       " (1, 'кот наплакал', 'лениться', '{{8,3},{9,3}}'),\n",
       " (2, 'ахилесова пята', 'лениться', '{}'),\n",
       " (3, 'бабье лето', 'лениться', '{{6,4},{7,3}}'),\n",
       " (4, 'бальзам на душу', 'лениться', '{{4,3},{5,3}}'),\n",
       " (5, 'битый час', 'лениться', '{}')]"
      ]
     },
     "execution_count": 262,
     "metadata": {},
     "output_type": "execute_result"
    }
   ],
   "source": [
    "cur.execute(\"SELECT * FROM phrases\")\n",
    "cur.fetchall()"
   ]
  },
  {
   "cell_type": "markdown",
   "metadata": {},
   "source": [
    "### Поиск по выражениям"
   ]
  },
  {
   "cell_type": "code",
   "execution_count": 99,
   "metadata": {
    "collapsed": true
   },
   "outputs": [],
   "source": [
    "def print_text(all_info, mea):\n",
    "    i = 0\n",
    "    print('Значение: ' + mea + '\\n')\n",
    "    for text, s in all_info:\n",
    "        print(str(i) + '. ' + s)\n",
    "        print('Название текста: ' + text[0][4])\n",
    "        print('Автор текста: ' + text[0][3])\n",
    "        print('Год создания текста: ' + str(text[0][5]) + '\\n')\n",
    "        print('~~~')\n",
    "        i+=1\n",
    "    return\n",
    "    "
   ]
  },
  {
   "cell_type": "code",
   "execution_count": 100,
   "metadata": {
    "collapsed": true
   },
   "outputs": [],
   "source": [
    "def get_texts(t_ids):\n",
    "    all_info = []\n",
    "    for t_id, s in t_ids: #t_id - id текста, s - номер предложения;\n",
    "        a = []\n",
    "        cur.execute(\"SELECT * FROM texts WHERE t_id LIKE '%s'\" % (t_id))\n",
    "        text = cur.fetchall() #text - блок текста;\n",
    "        sent = text[0][1].strip('{\"}').split('\",\"')[int(s)]\n",
    "        a.append(text)\n",
    "        a.append(sent)\n",
    "        all_info.append(a)\n",
    "    return all_info"
   ]
  },
  {
   "cell_type": "code",
   "execution_count": 101,
   "metadata": {
    "collapsed": true
   },
   "outputs": [],
   "source": [
    "def search_in_base(p):\n",
    "    cur.execute(\"SELECT * FROM phrases WHERE phrase LIKE '%s'\" % (p))\n",
    "    phrase = cur.fetchall()\n",
    "    if len(phrase) is not 0:\n",
    "        p_id = phrase[0][0]\n",
    "        mea = phrase[0][2]\n",
    "        t_ids = [n.split(',') for n in phrase[0][3].strip('{}').split('},{')] #список в списке; [[текст, страница]]\n",
    "        all_info = get_texts(t_ids) #список в списке; [[блок про текст, предложение]]\n",
    "        print_text(all_info, mea)\n",
    "    else:\n",
    "        print('Такого выражения в базе нет.')\n",
    "    con.commit()\n",
    "    return "
   ]
  },
  {
   "cell_type": "code",
   "execution_count": 103,
   "metadata": {},
   "outputs": [
    {
     "name": "stdout",
     "output_type": "stream",
     "text": [
      "Такого выражения в базе нет.\n"
     ]
    }
   ],
   "source": [
    "search_in_base('второе дыхание')"
   ]
  },
  {
   "cell_type": "code",
   "execution_count": 104,
   "metadata": {},
   "outputs": [
    {
     "name": "stdout",
     "output_type": "stream",
     "text": [
      "Значение: лениться\n",
      "\n",
      "0. Сколько бы ни было ошибок в выборе профессии ― ничего нет и быть не может хуже 16-летнего и тем более 18-летнего недоросля, который понятия не имеет о своем пути в жизни и идет в вуз (обычно все равно в какой) с единственной целью ― продлить елико возможно свое безмятежное детство, когда на занятиях можно бить баклуши, а все жизненные проблемы решать путем периодических собеседований родителей с учителями.\n",
      "Название текста: Прогноз на завтра\n",
      "Автор текста: Игорь Бестужев-Лада\n",
      "Год создания текста: 1985\n",
      "\n",
      "~~~\n",
      "1. Конечно, гораздо приятнее бить баклуши в этом госпитальном плавучем салоне с кисейными занавесками и раздушенными куклами-сестрами, чем работать в грязи, в крови и разбитых теплушках.\n",
      "Название текста: Повесть о жизни\n",
      "Автор текста: К. Г. Паустовский\n",
      "Год создания текста: 1954\n",
      "\n",
      "~~~\n"
     ]
    }
   ],
   "source": [
    "search_in_base('бить баклуши')"
   ]
  },
  {
   "cell_type": "markdown",
   "metadata": {},
   "source": [
    "# Добавление новой фразы"
   ]
  },
  {
   "cell_type": "code",
   "execution_count": 105,
   "metadata": {
    "collapsed": true
   },
   "outputs": [],
   "source": [
    "def get_sents(phrase):\n",
    "    cur.execute(\"SELECT * FROM texts\")\n",
    "    texts = cur.fetchall()\n",
    "    ph = normalize(phrase)\n",
    "    num_sent = []\n",
    "    for t in range(len(texts)): #t - номер блока про текст\n",
    "        for s in range(len(texts[t][2].split(','))): #s - порядковый номер предложения; texts[t][2] - нормализованный текст;\n",
    "            if ph in texts[t][2].split(',')[s].strip('\"}{'):\n",
    "                a = []\n",
    "                a.append(t)\n",
    "                a.append(s)\n",
    "                num_sent.append(a)\n",
    "    return num_sent"
   ]
  },
  {
   "cell_type": "code",
   "execution_count": 106,
   "metadata": {
    "collapsed": true
   },
   "outputs": [],
   "source": [
    "def add_phrase(phrase, mea):\n",
    "    cur.execute(\"SELECT * FROM phrases WHERE phrase LIKE '%s'\" % (phrase))\n",
    "    p = cur.fetchall()\n",
    "    if len(p) is 0:\n",
    "        nums = get_sents(phrase)\n",
    "        cur.execute(\"SELECT p_id FROM phrases\")\n",
    "        p_id= list(cur.fetchall()[len(cur.fetchall())-1])[0]+1\n",
    "        cur.execute('INSERT INTO phrases VALUES (%s, %s, %s, %s);',\n",
    "                           [str(p_id), phrase, mea, nums])\n",
    "    else:\n",
    "        print('Такое выражение уже есть в базе.')\n",
    "    con.commit()\n",
    "    return"
   ]
  },
  {
   "cell_type": "code",
   "execution_count": 35,
   "metadata": {
    "collapsed": true
   },
   "outputs": [],
   "source": [
    "con.rollback()"
   ]
  },
  {
   "cell_type": "code",
   "execution_count": 107,
   "metadata": {
    "collapsed": true
   },
   "outputs": [],
   "source": [
    "my_phrase = 'бить баклуши'\n",
    "mea = 'лениться'"
   ]
  },
  {
   "cell_type": "code",
   "execution_count": 108,
   "metadata": {},
   "outputs": [
    {
     "name": "stdout",
     "output_type": "stream",
     "text": [
      "Такое выражение уже есть в базе.\n"
     ]
    }
   ],
   "source": [
    "add_phrase(my_phrase, mea)"
   ]
  },
  {
   "cell_type": "code",
   "execution_count": 263,
   "metadata": {
    "collapsed": true
   },
   "outputs": [],
   "source": [
    "my_phrase = 'белая ворона'\n",
    "mea = 'непохожий на других'"
   ]
  },
  {
   "cell_type": "code",
   "execution_count": 264,
   "metadata": {
    "collapsed": true
   },
   "outputs": [],
   "source": [
    "add_phrase(my_phrase, mea)"
   ]
  },
  {
   "cell_type": "code",
   "execution_count": 265,
   "metadata": {
    "scrolled": true
   },
   "outputs": [
    {
     "data": {
      "text/plain": [
       "[(0, 'бить баклуши', 'лениться', '{{10,0},{11,3}}'),\n",
       " (1, 'кот наплакал', 'лениться', '{{8,3},{9,3}}'),\n",
       " (2, 'ахилесова пята', 'лениться', '{}'),\n",
       " (3, 'бабье лето', 'лениться', '{{6,4},{7,3}}'),\n",
       " (4, 'бальзам на душу', 'лениться', '{{4,3},{5,3}}'),\n",
       " (5, 'битый час', 'лениться', '{}'),\n",
       " (6, 'белая ворона', 'непохожий на других', '{{2,3},{3,3}}')]"
      ]
     },
     "execution_count": 265,
     "metadata": {},
     "output_type": "execute_result"
    }
   ],
   "source": [
    "cur.execute(\"SELECT * FROM phrases\")\n",
    "cur.fetchall()"
   ]
  },
  {
   "cell_type": "markdown",
   "metadata": {},
   "source": [
    "# Добавление текста"
   ]
  },
  {
   "cell_type": "markdown",
   "metadata": {},
   "source": [
    "С каждым новым текстом нужно проходить по всем выражениям. Так как база небольшая, легче просто заново заколнять графу t_ids с индексами предложений. В идеале, конечно, просто добавлять новую пару."
   ]
  },
  {
   "cell_type": "code",
   "execution_count": 282,
   "metadata": {},
   "outputs": [],
   "source": [
    "with open ('new_text.txt', encoding = 'UTF-8') as f:\n",
    "    text = f.read()\n",
    "\n",
    "auth = 'Андрей Сидорин'\n",
    "title = 'Искатель невидимых превращений'\n",
    "year = '2012'"
   ]
  },
  {
   "cell_type": "code",
   "execution_count": 267,
   "metadata": {
    "collapsed": true
   },
   "outputs": [],
   "source": [
    "def add_text(text, auth, title, year):\n",
    "    text = text.replace('…', '.').strip('\\ufeff\\n')\n",
    "    norm_text = normalize(tokenize.sent_tokenize(text))\n",
    "    cur.execute(\"SELECT t_id FROM texts\")\n",
    "    i =  max([int(a[0]) for a in cur.fetchall()])+1\n",
    "    cur.execute('INSERT INTO texts VALUES (%s, %s, %s, %s, %s, %s);', \n",
    "                [str(i), text, norm_text, auth, title, year])\n",
    "    update()\n",
    "    con.commit()\n",
    "    return"
   ]
  },
  {
   "cell_type": "code",
   "execution_count": 283,
   "metadata": {},
   "outputs": [],
   "source": [
    "add_text(text, auth, title, year)"
   ]
  },
  {
   "cell_type": "code",
   "execution_count": 284,
   "metadata": {},
   "outputs": [
    {
     "data": {
      "text/plain": [
       "[('12',\n",
       "  'Самое поразительное, что это происходило во времена, когда ещё не был открыт закон Ома, практически не существовало электроизмерительных приборов, а наличие тока в цепи проверяли искрой и даже. на вкус. Слабая математическая подготовка так и осталась ахиллесовой пятой великого учёного. Как физик он очень далеко продвинулся в изучении электромагнитных силовых линий и электромагнитного поля. Однако для научного объяснения сути сделанных им открытий требовалась хорошая математическая обработка данных, что оказалось не по силам Фарадею. Лишь позднее его идеи получили блестящее развитие в математической теории электромагнитного поля, которую вывел Джеймс Клерк Максвелл. ',\n",
       "  '{\"самый поразительный что это происходить в время когда ещё не быть открытый закон ома практически не существовать электроизмерительный прибор а наличие ток в цепь проверять искра и даже\",\"на вкус\",\"слабый математический подготовка так и остаться ахиллесов пять великое учёный\",\"как физик он очень далеко продвинуться в изучение электромагнитный силовой линия и электромагнитный поль\",\"однако для научный объяснение суть сделать имя открытие требоваться хороший математический обработка дать что оказаться не по сила фарадей\",\"лишь поздний он идея получить блестящий развитие в математический теория электромагнитный поль который вывести джеймс клерк максвелл\"}',\n",
       "  'Андрей Сидорин',\n",
       "  'Искатель невидимых превращений',\n",
       "  2012)]"
      ]
     },
     "execution_count": 284,
     "metadata": {},
     "output_type": "execute_result"
    }
   ],
   "source": [
    "cur.execute(\"SELECT * FROM texts WHERE author = '%s'\" % auth)\n",
    "cur.fetchall()"
   ]
  },
  {
   "cell_type": "markdown",
   "metadata": {},
   "source": [
    "# Удаление фразы"
   ]
  },
  {
   "cell_type": "code",
   "execution_count": 146,
   "metadata": {
    "collapsed": true
   },
   "outputs": [],
   "source": [
    "def delete_phrase(phrase):\n",
    "    cur.execute(\"DELETE FROM phrases WHERE phrase = '%s'\" % phrase)\n",
    "    con.commit()\n",
    "    return"
   ]
  },
  {
   "cell_type": "code",
   "execution_count": 272,
   "metadata": {
    "collapsed": true
   },
   "outputs": [],
   "source": [
    "delete_phrase('ахилесова пята')"
   ]
  },
  {
   "cell_type": "code",
   "execution_count": 273,
   "metadata": {},
   "outputs": [
    {
     "data": {
      "text/plain": [
       "[(0, 'бить баклуши', 'лениться', '{{10,0},{11,3}}'),\n",
       " (1, 'кот наплакал', 'лениться', '{{8,3},{9,3}}'),\n",
       " (3, 'бабье лето', 'лениться', '{{6,4},{7,3}}'),\n",
       " (4, 'бальзам на душу', 'лениться', '{{4,3},{5,3}}'),\n",
       " (5, 'битый час', 'лениться', '{}'),\n",
       " (6, 'белая ворона', 'непохожий на других', '{{2,3},{3,3}}')]"
      ]
     },
     "execution_count": 273,
     "metadata": {},
     "output_type": "execute_result"
    }
   ],
   "source": [
    "cur.execute(\"SELECT * FROM phrases\")\n",
    "cur.fetchall()"
   ]
  },
  {
   "cell_type": "markdown",
   "metadata": {},
   "source": [
    "# Удаление текста"
   ]
  },
  {
   "cell_type": "markdown",
   "metadata": {},
   "source": [
    "Ситуация такая же, как и с добавлением. Нужно переписывать данные по встречаемости.\n",
    "Для удобства сделала удаление по названию текста."
   ]
  },
  {
   "cell_type": "code",
   "execution_count": 274,
   "metadata": {
    "collapsed": true
   },
   "outputs": [],
   "source": [
    "def delete_text(title):\n",
    "    cur.execute(\"DELETE FROM texts WHERE title = '%s'\" % title)\n",
    "    update()\n",
    "    con.commit()\n",
    "    return    "
   ]
  },
  {
   "cell_type": "code",
   "execution_count": 285,
   "metadata": {},
   "outputs": [],
   "source": [
    "delete_text('Искатель невидимых превращений')"
   ]
  },
  {
   "cell_type": "code",
   "execution_count": 286,
   "metadata": {},
   "outputs": [
    {
     "data": {
      "text/plain": [
       "[]"
      ]
     },
     "execution_count": 286,
     "metadata": {},
     "output_type": "execute_result"
    }
   ],
   "source": [
    "cur.execute(\"SELECT * FROM texts WHERE title = '%s'\" % 'Искатель невидимых превращений')\n",
    "cur.fetchall()"
   ]
  },
  {
   "cell_type": "markdown",
   "metadata": {},
   "source": [
    "# Редактирование текста"
   ]
  },
  {
   "cell_type": "code",
   "execution_count": 41,
   "metadata": {
    "collapsed": true
   },
   "outputs": [],
   "source": [
    "def change_author(new_author, text_id):\n",
    "    cur.execute(\"UPDATE texts SET author = %s WHERE t_id = %s\", (new_author, text_id))\n",
    "    con.commit()\n",
    "    return"
   ]
  },
  {
   "cell_type": "code",
   "execution_count": 42,
   "metadata": {
    "collapsed": true
   },
   "outputs": [],
   "source": [
    "def change_title(new_title, text_id):\n",
    "    cur.execute(\"UPDATE texts SET title = %s WHERE t_id = %s\", (new_title, text_id))\n",
    "    con.commit()\n",
    "    return"
   ]
  },
  {
   "cell_type": "code",
   "execution_count": 160,
   "metadata": {
    "collapsed": true
   },
   "outputs": [],
   "source": [
    "def change_year(new_year, text_id):\n",
    "    cur.execute(\"UPDATE texts SET year = %s WHERE t_id = %s\", (new_year, text_id))\n",
    "    con.commit()\n",
    "    return"
   ]
  },
  {
   "cell_type": "code",
   "execution_count": 279,
   "metadata": {
    "collapsed": true
   },
   "outputs": [],
   "source": [
    "change_year('2011', '0')"
   ]
  },
  {
   "cell_type": "code",
   "execution_count": 280,
   "metadata": {},
   "outputs": [
    {
     "data": {
      "text/plain": [
       "[('0',\n",
       "  '{\"― Бедные.\",\"― Настя совсем расстроилась.\",\"― Да уж, им не позавидуешь, ― согласился папа.\",\"― Но не надо вешать нос!\",\"Разве мы с вами нашего Барсика не на улице нашли?\",\"Даже с бездомными кошками случаются настоящие чудеса.\",\"Однако что же мы стоим на морозе?\"}',\n",
       "  '{бедный,\"настя совсем расстроиться\",\"да уж имя не позавидовать согласиться папа\",\"но не надо вешать нос\",\"разве мы с вы наш барсик не на улица найти\",\"даже с бездомный кошка случаться настоящий чудо\",\"однако что же мы стоять на мороз\"}',\n",
       "  'Екатерина Каретникова',\n",
       "  'Зимняя сказка ',\n",
       "  3012)]"
      ]
     },
     "execution_count": 280,
     "metadata": {},
     "output_type": "execute_result"
    }
   ],
   "source": [
    "cur.execute(\"SELECT * FROM texts WHERE t_id = '%s'\" % '0')\n",
    "cur.fetchall()"
   ]
  },
  {
   "cell_type": "code",
   "execution_count": 163,
   "metadata": {},
   "outputs": [
    {
     "data": {
      "text/plain": [
       "[(0, 'бить баклуши', 'лениться', '{{10,0},{11,3}}'),\n",
       " (2, 'ахилесова пята', 'лениться', '{}'),\n",
       " (3, 'бабье лето', 'лениться', '{{6,4},{7,3}}'),\n",
       " (4, 'бальзам на душу', 'лениться', '{{4,3},{5,3}}'),\n",
       " (5, 'битый час', 'лениться', '{}'),\n",
       " (6, 'белая ворона', 'непохожий на других', '{{2,3},{3,3}}')]"
      ]
     },
     "execution_count": 163,
     "metadata": {},
     "output_type": "execute_result"
    }
   ],
   "source": [
    "cur.execute(\"SELECT * FROM phrases\")\n",
    "cur.fetchall()"
   ]
  },
  {
   "cell_type": "markdown",
   "metadata": {},
   "source": [
    "# Дополнительные функции"
   ]
  },
  {
   "cell_type": "markdown",
   "metadata": {},
   "source": [
    "Просмотр всех выражений"
   ]
  },
  {
   "cell_type": "code",
   "execution_count": 561,
   "metadata": {},
   "outputs": [
    {
     "data": {
      "text/plain": [
       "('бить баклуши',)"
      ]
     },
     "execution_count": 561,
     "metadata": {},
     "output_type": "execute_result"
    }
   ],
   "source": [
    "cur.execute(\"SELECT phrase FROM phrases\")\n",
    "cur.fetchall()[0]"
   ]
  },
  {
   "cell_type": "code",
   "execution_count": 296,
   "metadata": {
    "collapsed": true
   },
   "outputs": [],
   "source": [
    "def get_all_phrases():\n",
    "    cur.execute(\"SELECT phrase FROM phrases\")\n",
    "    phrases = cur.fetchall()\n",
    "    for i in range(len(phrases)):\n",
    "        print(str(i+1) + '. ' + list(phrases[i])[0])\n",
    "    return"
   ]
  },
  {
   "cell_type": "code",
   "execution_count": 297,
   "metadata": {},
   "outputs": [
    {
     "name": "stdout",
     "output_type": "stream",
     "text": [
      "1. бить баклуши\n",
      "2. кот наплакал\n",
      "3. бабье лето\n",
      "4. бальзам на душу\n",
      "5. битый час\n",
      "6. белая ворона\n"
     ]
    }
   ],
   "source": [
    " get_all_phrases()"
   ]
  },
  {
   "cell_type": "markdown",
   "metadata": {},
   "source": [
    "Просмотр всех названий текстов"
   ]
  },
  {
   "cell_type": "code",
   "execution_count": 298,
   "metadata": {
    "collapsed": true
   },
   "outputs": [],
   "source": [
    "def get_all_titles():\n",
    "    cur.execute(\"SELECT title FROM texts\")\n",
    "    titles = cur.fetchall()\n",
    "    for i in range(len(titles)):\n",
    "        print(str(i+1) + '. ' + list(titles[i])[0])\n",
    "    return"
   ]
  },
  {
   "cell_type": "code",
   "execution_count": 299,
   "metadata": {},
   "outputs": [
    {
     "name": "stdout",
     "output_type": "stream",
     "text": [
      "1. Лунная соната\n",
      "2. Музыкальное чувство памяти\n",
      "3. Пути к универсалиям\n",
      "4. Естественный отбор\n",
      "5. Храм Согласия \n",
      "6. Каменный мост\n",
      "7. Обезьяна приходит за своим черепом\n",
      "8. Многоточие сборки\n",
      "9. Прощеное воскресенье\n",
      "10. Прогноз на завтра\n",
      "11. Повесть о жизни\n",
      "12. Зимняя сказка \n"
     ]
    }
   ],
   "source": [
    "get_all_titles()"
   ]
  },
  {
   "cell_type": "markdown",
   "metadata": {},
   "source": [
    "Просмотр всех авторов текстов"
   ]
  },
  {
   "cell_type": "code",
   "execution_count": 300,
   "metadata": {
    "collapsed": true
   },
   "outputs": [],
   "source": [
    "def get_all_authors():\n",
    "    cur.execute(\"SELECT author FROM texts\")\n",
    "    authors = cur.fetchall()\n",
    "    for i in range(len(authors)):\n",
    "        print(str(i+1) + '. ' + list(authors[i])[0])\n",
    "    return"
   ]
  },
  {
   "cell_type": "code",
   "execution_count": 301,
   "metadata": {},
   "outputs": [
    {
     "name": "stdout",
     "output_type": "stream",
     "text": [
      "1. Сергей Ястребов\n",
      "2. Елена Костюкович\n",
      "3. С. С. Неретина\n",
      "4. Максим Милованов\n",
      "5. Вацлав Михальский\n",
      "6. Александр Терехов\n",
      "7. Ю. О. Домбровский.\n",
      "8. Ю. И. Андреева\n",
      "9. Вацлав Михальский\n",
      "10. Игорь Бестужев-Лада\n",
      "11. К. Г. Паустовский\n",
      "12. Екатерина Каретникова\n"
     ]
    }
   ],
   "source": [
    "get_all_authors()"
   ]
  }
 ],
 "metadata": {
  "kernelspec": {
   "display_name": "Python 3",
   "language": "python",
   "name": "python3"
  },
  "language_info": {
   "codemirror_mode": {
    "name": "ipython",
    "version": 3
   },
   "file_extension": ".py",
   "mimetype": "text/x-python",
   "name": "python",
   "nbconvert_exporter": "python",
   "pygments_lexer": "ipython3",
   "version": "3.6.2"
  }
 },
 "nbformat": 4,
 "nbformat_minor": 2
}
